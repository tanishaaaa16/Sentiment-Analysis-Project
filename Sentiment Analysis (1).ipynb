{
 "cells": [
  {
   "cell_type": "code",
   "execution_count": 5,
   "id": "b2dbfe70-8104-4e4c-a642-58212bcd0991",
   "metadata": {},
   "outputs": [],
   "source": [
    "import pandas as pd"
   ]
  },
  {
   "cell_type": "code",
   "execution_count": 6,
   "id": "01711ece-7473-4cf8-973a-e7c7ed619ea1",
   "metadata": {},
   "outputs": [],
   "source": [
    "df1=pd.read_csv(r'C:\\Users\\acer\\Downloads\\IMBD Dataset.csv')"
   ]
  },
  {
   "cell_type": "code",
   "execution_count": 32,
   "id": "14f26588-5d9d-4d89-baff-937d4e712854",
   "metadata": {},
   "outputs": [
    {
     "data": {
      "text/html": [
       "<div>\n",
       "<style scoped>\n",
       "    .dataframe tbody tr th:only-of-type {\n",
       "        vertical-align: middle;\n",
       "    }\n",
       "\n",
       "    .dataframe tbody tr th {\n",
       "        vertical-align: top;\n",
       "    }\n",
       "\n",
       "    .dataframe thead th {\n",
       "        text-align: right;\n",
       "    }\n",
       "</style>\n",
       "<table border=\"1\" class=\"dataframe\">\n",
       "  <thead>\n",
       "    <tr style=\"text-align: right;\">\n",
       "      <th></th>\n",
       "      <th>review</th>\n",
       "      <th>sentiment</th>\n",
       "    </tr>\n",
       "  </thead>\n",
       "  <tbody>\n",
       "    <tr>\n",
       "      <th>0</th>\n",
       "      <td>One of the other reviewers has mentioned that ...</td>\n",
       "      <td>positive</td>\n",
       "    </tr>\n",
       "    <tr>\n",
       "      <th>1</th>\n",
       "      <td>A wonderful little production. &lt;br /&gt;&lt;br /&gt;The...</td>\n",
       "      <td>positive</td>\n",
       "    </tr>\n",
       "    <tr>\n",
       "      <th>2</th>\n",
       "      <td>I thought this was a wonderful way to spend ti...</td>\n",
       "      <td>positive</td>\n",
       "    </tr>\n",
       "    <tr>\n",
       "      <th>3</th>\n",
       "      <td>Basically there's a family where a little boy ...</td>\n",
       "      <td>negative</td>\n",
       "    </tr>\n",
       "    <tr>\n",
       "      <th>4</th>\n",
       "      <td>Petter Mattei's \"Love in the Time of Money\" is...</td>\n",
       "      <td>positive</td>\n",
       "    </tr>\n",
       "  </tbody>\n",
       "</table>\n",
       "</div>"
      ],
      "text/plain": [
       "                                              review sentiment\n",
       "0  One of the other reviewers has mentioned that ...  positive\n",
       "1  A wonderful little production. <br /><br />The...  positive\n",
       "2  I thought this was a wonderful way to spend ti...  positive\n",
       "3  Basically there's a family where a little boy ...  negative\n",
       "4  Petter Mattei's \"Love in the Time of Money\" is...  positive"
      ]
     },
     "execution_count": 32,
     "metadata": {},
     "output_type": "execute_result"
    }
   ],
   "source": [
    "df1.head()"
   ]
  },
  {
   "cell_type": "code",
   "execution_count": 18,
   "id": "094203c8-bb3d-4b5d-bef0-faf25ed6b12d",
   "metadata": {},
   "outputs": [],
   "source": [
    "import nltk\n",
    "from nltk.corpus import stopwords\n",
    "from nltk.tokenize import word_tokenize\n",
    "from nltk.stem import WordNetLemmatizer\n",
    "\n",
    "import string"
   ]
  },
  {
   "cell_type": "code",
   "execution_count": 3,
   "id": "9cdec499-8699-4d96-8ca7-150076f6356f",
   "metadata": {},
   "outputs": [
    {
     "name": "stderr",
     "output_type": "stream",
     "text": [
      "[nltk_data] Downloading package punkt to\n",
      "[nltk_data]     C:\\Users\\acer\\AppData\\Roaming\\nltk_data...\n",
      "[nltk_data]   Unzipping tokenizers\\punkt.zip.\n"
     ]
    },
    {
     "data": {
      "text/plain": [
       "True"
      ]
     },
     "execution_count": 3,
     "metadata": {},
     "output_type": "execute_result"
    }
   ],
   "source": [
    "nltk.download('punkt')"
   ]
  },
  {
   "cell_type": "code",
   "execution_count": 5,
   "id": "ed14efbe-a7b3-4b2a-bf12-f3c21f3f36d9",
   "metadata": {},
   "outputs": [
    {
     "name": "stderr",
     "output_type": "stream",
     "text": [
      "[nltk_data] Downloading package stopwords to\n",
      "[nltk_data]     C:\\Users\\acer\\AppData\\Roaming\\nltk_data...\n",
      "[nltk_data]   Unzipping corpora\\stopwords.zip.\n"
     ]
    },
    {
     "data": {
      "text/plain": [
       "True"
      ]
     },
     "execution_count": 5,
     "metadata": {},
     "output_type": "execute_result"
    }
   ],
   "source": [
    "nltk.download('stopwords')"
   ]
  },
  {
   "cell_type": "code",
   "execution_count": 6,
   "id": "8941b643-750c-46f8-8397-4c6f508a3270",
   "metadata": {},
   "outputs": [
    {
     "name": "stderr",
     "output_type": "stream",
     "text": [
      "[nltk_data] Downloading package wordnet to\n",
      "[nltk_data]     C:\\Users\\acer\\AppData\\Roaming\\nltk_data...\n"
     ]
    },
    {
     "data": {
      "text/plain": [
       "True"
      ]
     },
     "execution_count": 6,
     "metadata": {},
     "output_type": "execute_result"
    }
   ],
   "source": [
    "nltk.download('wordnet')"
   ]
  },
  {
   "cell_type": "code",
   "execution_count": 5,
   "id": "c105f717-2ad8-436c-b240-8f01c340c2e1",
   "metadata": {},
   "outputs": [],
   "source": [
    "def preprocess_text(text):\n",
    "    text=text.lower()\n",
    "    text=text.translate(str.maketrans('','',string.punctuation))\n",
    "    tokens=word_tokenize(text)\n",
    "    tokens=[word for word in tokens if word not in stopwords.words('english')]\n",
    "    tokens=[lemmatizer.lemmatize(word) for word in tokens]\n",
    "    return''.join(tokens)\n",
    "    df1['Cleaned_Review']=df1['Review'].apply(preprocess_text)"
   ]
  },
  {
   "cell_type": "code",
   "execution_count": 26,
   "id": "9155cef0-25f4-4a44-b1a5-8770d7e60dd5",
   "metadata": {},
   "outputs": [
    {
     "name": "stdout",
     "output_type": "stream",
     "text": [
      "                                              review sentiment\n",
      "0  One of the other reviewers has mentioned that ...  positive\n",
      "1  A wonderful little production. <br /><br />The...  positive\n",
      "2  I thought this was a wonderful way to spend ti...  positive\n",
      "3  Basically there's a family where a little boy ...  negative\n",
      "4  Petter Mattei's \"Love in the Time of Money\" is...  positive\n"
     ]
    }
   ],
   "source": [
    "print(df1.head())"
   ]
  },
  {
   "cell_type": "code",
   "execution_count": 20,
   "id": "b0eb663a-382a-4880-acd3-0fd21ab1fb92",
   "metadata": {},
   "outputs": [],
   "source": [
    "from textblob import TextBlob"
   ]
  },
  {
   "cell_type": "code",
   "execution_count": 10,
   "id": "45a9a62d-121f-411a-b95f-36b23975caf2",
   "metadata": {},
   "outputs": [
    {
     "name": "stdout",
     "output_type": "stream",
     "text": [
      "Index(['review', 'sentiment'], dtype='object')\n"
     ]
    }
   ],
   "source": [
    "print(df1.columns)"
   ]
  },
  {
   "cell_type": "code",
   "execution_count": 8,
   "id": "ccde31ab-52e1-4a0b-adc8-53f480f87acd",
   "metadata": {},
   "outputs": [],
   "source": [
    "df1['Cleaned_Review']=''"
   ]
  },
  {
   "cell_type": "code",
   "execution_count": 12,
   "id": "cbe39882-5d51-4d68-98cb-68ed49085ec6",
   "metadata": {},
   "outputs": [],
   "source": [
    "def get_sentiment(text):\n",
    "    blob=TextBlob(text)\n",
    "    return blob.sentiment.polarity"
   ]
  },
  {
   "cell_type": "code",
   "execution_count": 21,
   "id": "72c09e0d-9aa6-4c44-9043-d9dc7528c61d",
   "metadata": {},
   "outputs": [],
   "source": [
    "df1['Sentiment_Score']=df1['Cleaned_Review'].apply(get_sentiment)"
   ]
  },
  {
   "cell_type": "code",
   "execution_count": 17,
   "id": "c10a3d1e-1b91-4e22-a5ec-d0eed3003173",
   "metadata": {},
   "outputs": [],
   "source": [
    "df1['Sentiment_Label']=df1['Sentiment_Score'].apply(lambda x:('Positive' if x>0 else ('Negative' if x<0 else 'Neutral')))"
   ]
  },
  {
   "cell_type": "code",
   "execution_count": 33,
   "id": "61707de1-0634-4d29-8394-870fae664cd4",
   "metadata": {},
   "outputs": [],
   "source": [
    "df1['Sentiment_Label']=''"
   ]
  },
  {
   "cell_type": "code",
   "execution_count": 18,
   "id": "54f0ced9-8884-44d0-8c78-6c0fb9b32829",
   "metadata": {},
   "outputs": [],
   "source": [
    "df1['Sentiment_Score']=''"
   ]
  },
  {
   "cell_type": "code",
   "execution_count": 24,
   "id": "f3096659-e0ef-4943-b735-c8aac4bc8db0",
   "metadata": {},
   "outputs": [
    {
     "name": "stdout",
     "output_type": "stream",
     "text": [
      "                                              review Sentiment_Score  \\\n",
      "0  One of the other reviewers has mentioned that ...                   \n",
      "1  A wonderful little production. <br /><br />The...                   \n",
      "2  I thought this was a wonderful way to spend ti...                   \n",
      "3  Basically there's a family where a little boy ...                   \n",
      "4  Petter Mattei's \"Love in the Time of Money\" is...                   \n",
      "\n",
      "  Sentiment_Label  \n",
      "0                  \n",
      "1                  \n",
      "2                  \n",
      "3                  \n",
      "4                  \n"
     ]
    }
   ],
   "source": [
    "print(df1[['review','Sentiment_Score','Sentiment_Label']].head())"
   ]
  },
  {
   "cell_type": "code",
   "execution_count": 15,
   "id": "25dadbff-3c39-400c-9c0d-6d342dd6792a",
   "metadata": {},
   "outputs": [],
   "source": [
    "from nltk.sentiment.vader import SentimentIntensityAnalyzer"
   ]
  },
  {
   "cell_type": "code",
   "execution_count": 19,
   "id": "e64e04ba-d5dd-4ca5-aa06-74aa6d30f514",
   "metadata": {},
   "outputs": [
    {
     "name": "stderr",
     "output_type": "stream",
     "text": [
      "[nltk_data] Downloading package vader_lexicon to\n",
      "[nltk_data]     C:\\Users\\acer\\AppData\\Roaming\\nltk_data...\n",
      "[nltk_data]   Package vader_lexicon is already up-to-date!\n"
     ]
    },
    {
     "data": {
      "text/plain": [
       "True"
      ]
     },
     "execution_count": 19,
     "metadata": {},
     "output_type": "execute_result"
    }
   ],
   "source": [
    "nltk.download('vader_lexicon')"
   ]
  },
  {
   "cell_type": "code",
   "execution_count": 20,
   "id": "de242c2c-64c3-419d-a1b4-858c4bb2971a",
   "metadata": {},
   "outputs": [],
   "source": [
    "sid=SentimentIntensityAnalyzer()"
   ]
  },
  {
   "cell_type": "code",
   "execution_count": 21,
   "id": "33192315-2161-4d0e-9da0-f949acfb49b0",
   "metadata": {},
   "outputs": [],
   "source": [
    "def vader_sentiment(text):\n",
    "    return sid.polarity_scores(text)['compound']"
   ]
  },
  {
   "cell_type": "code",
   "execution_count": 22,
   "id": "0c55518b-5d4c-4f76-9410-a9b446b5fab5",
   "metadata": {},
   "outputs": [],
   "source": [
    "df1['VADER_Sentiment_Score']=df1['Cleaned_Review'].apply(vader_sentiment)"
   ]
  },
  {
   "cell_type": "code",
   "execution_count": 23,
   "id": "e95d073d-d48e-4b61-8d2f-be015b9925e5",
   "metadata": {},
   "outputs": [],
   "source": [
    "df1['VADER_Sentiment']=df1['VADER_Sentiment_Score'].apply(lambda x:'Positive' if x>0 else('Negative'if x<0 else 'Neutral'))"
   ]
  },
  {
   "cell_type": "code",
   "execution_count": 26,
   "id": "6859325e-b58c-426b-9aa5-9f0b04b6f84b",
   "metadata": {},
   "outputs": [],
   "source": [
    "df1['VADER_Sentiment_Label']=''"
   ]
  },
  {
   "cell_type": "code",
   "execution_count": 28,
   "id": "262f5489-135a-48c2-9b7c-2cac791e9477",
   "metadata": {},
   "outputs": [],
   "source": [
    "df1['Review']=''"
   ]
  },
  {
   "cell_type": "code",
   "execution_count": 35,
   "id": "e73697eb-3d3b-4a71-ae2a-a645aac84cdc",
   "metadata": {},
   "outputs": [
    {
     "name": "stdout",
     "output_type": "stream",
     "text": [
      "      Review  VADER_Sentiment_Score VADER_Sentiment_Label\n",
      "49995                           0.0                      \n",
      "49996                           0.0                      \n",
      "49997                           0.0                      \n",
      "49998                           0.0                      \n",
      "49999                           0.0                      \n"
     ]
    }
   ],
   "source": [
    "print(df1[['Review','VADER_Sentiment_Score','VADER_Sentiment_Label']].tail())"
   ]
  },
  {
   "cell_type": "code",
   "execution_count": 30,
   "id": "fa8969b4-cf26-4f18-9c49-c0a7319c0220",
   "metadata": {},
   "outputs": [],
   "source": [
    "import matplotlib.pyplot as plt"
   ]
  },
  {
   "cell_type": "code",
   "execution_count": 37,
   "id": "2e92f225-8d55-4525-a773-5cb09e9b1138",
   "metadata": {},
   "outputs": [
    {
     "data": {
      "image/png": "[encoded data removed]",
      "text/plain": [
       "<Figure size 640x480 with 1 Axes>"
      ]
     },
     "metadata": {},
     "output_type": "display_data"
    }
   ],
   "source": [
    "df1['Sentiment_Label'].value_counts().plot(kind='bar',color=['pink','red','blue'])\n",
    "plt.title('Sentiment Distribution')\n",
    "plt.xlabel('Sentiment')\n",
    "plt.ylabel('Number of Reviews')\n",
    "plt.show()"
   ]
  },
  {
   "cell_type": "code",
   "execution_count": null,
   "id": "a9a6a597-bfa5-47fd-a9ea-728bb6689a4e",
   "metadata": {},
   "outputs": [],
   "source": []
  }
 ],
 "metadata": {
  "kernelspec": {
   "display_name": "Python 3 (ipykernel)",
   "language": "python",
   "name": "python3"
  },
  "language_info": {
   "codemirror_mode": {
    "name": "ipython",
    "version": 3
   },
   "file_extension": ".py",
   "mimetype": "text/x-python",
   "name": "python",
   "nbconvert_exporter": "python",
   "pygments_lexer": "ipython3",
   "version": "3.12.4"
  }
 },
 "nbformat": 4,
 "nbformat_minor": 5
}
